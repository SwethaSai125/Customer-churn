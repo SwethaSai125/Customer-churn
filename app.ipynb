{
 "cells": [
  {
   "cell_type": "code",
   "execution_count": 11,
   "metadata": {},
   "outputs": [],
   "source": [
    "import numpy as np\n",
    "import pandas as pd\n",
    "from sklearn.preprocessing import LabelEncoder\n",
    "import pickle\n",
    "from flask import Flask, request, render_template"
   ]
  },
  {
   "cell_type": "code",
   "execution_count": 12,
   "metadata": {},
   "outputs": [],
   "source": [
    "app = Flask(__name__)"
   ]
  },
  {
   "cell_type": "code",
   "execution_count": 13,
   "metadata": {},
   "outputs": [],
   "source": [
    "@app.route(\"/\")\n",
    "def home_page():\n",
    "    return render_template('home.html')"
   ]
  },
  {
   "cell_type": "code",
   "execution_count": 14,
   "metadata": {},
   "outputs": [],
   "source": [
    "@app.route(\"/\", methods=['POST'])\n",
    "def predict():\n",
    "\n",
    "    \"\"\" Selected feature are Dependents, tenure, OnlineSecurity,\n",
    "        OnlineBackup, DeviceProtection, TechSupport, Contract,\n",
    "        PaperlessBilling, MonthlyCharges, TotalCharges \"\"\"\n",
    "\n",
    "    Dependents = request.form['Dependents']\n",
    "    tenure = float(request.form['tenure'])\n",
    "    OnlineSecurity = request.form['OnlineSecurity']\n",
    "    OnlineBackup = request.form['OnlineBackup']\n",
    "    DeviceProtection = request.form['DeviceProtection']\n",
    "    TechSupport = request.form['TechSupport']\n",
    "    Contract = request.form['Contract']\n",
    "    PaperlessBilling = request.form['PaperlessBilling']\n",
    "    MonthlyCharges = float(request.form['MonthlyCharges'])\n",
    "    TotalCharges = float(request.form['TotalCharges'])\n",
    "\n",
    "    model = pickle.load(open('Model.sav', 'rb'))\n",
    "    data = [[Dependents, tenure, OnlineSecurity, OnlineBackup, DeviceProtection, TechSupport, Contract, PaperlessBilling, MonthlyCharges, TotalCharges]]\n",
    "    df = pd.DataFrame(data, columns=['Dependents', 'tenure', 'OnlineSecurity',\n",
    "        'OnlineBackup', 'DeviceProtection', 'TechSupport', 'Contract',\n",
    "        'PaperlessBilling', 'MonthlyCharges', 'TotalCharges'])\n",
    "\n",
    "    categorical_feature = {feature for feature in df.columns if df[feature].dtypes == 'O'}\n",
    "\n",
    "    encoder = LabelEncoder()\n",
    "    for feature in categorical_feature:\n",
    "        df[feature] = encoder.fit_transform(df[feature])\n",
    "\n",
    "    single = model.predict(df)\n",
    "    probability = model.predict_proba(df)[:, 1]\n",
    "    probability = probability*100\n",
    "\n",
    "    if single == 1:\n",
    "        op1 = \"This Customer is likely to be Churned!\"\n",
    "        op2 = f\"Confidence level is {np.round(probability[0], 2)}\"\n",
    "    else:\n",
    "        op1 = \"This Customer is likely to be Continue!\"\n",
    "        op2 = f\"Confidence level is {np.round(probability[0], 2)}\"\n",
    "\n",
    "    return render_template(\"home.html\", op1=op1, op2=op2,\n",
    "                           Dependents=request.form['Dependents'],\n",
    "                           tenure=request.form['tenure'],\n",
    "                           OnlineSecurity=request.form['OnlineSecurity'],\n",
    "                           OnlineBackup=request.form['OnlineBackup'],\n",
    "                           DeviceProtection=request.form['DeviceProtection'],\n",
    "                           TechSupport=request.form['TechSupport'],\n",
    "                           Contract=request.form['Contract'],\n",
    "                           PaperlessBilling=request.form['PaperlessBilling'],\n",
    "                           MonthlyCharges=request.form['MonthlyCharges'],\n",
    "                           TotalCharges=request.form['TotalCharges'])\n"
   ]
  },
  {
   "cell_type": "code",
   "execution_count": 15,
   "metadata": {},
   "outputs": [
    {
     "name": "stdout",
     "output_type": "stream",
     "text": [
      " * Serving Flask app '__main__'\n",
      " * Debug mode: off\n"
     ]
    },
    {
     "name": "stderr",
     "output_type": "stream",
     "text": [
      "WARNING: This is a development server. Do not use it in a production deployment. Use a production WSGI server instead.\n",
      " * Running on http://127.0.0.1:5000\n",
      "Press CTRL+C to quit\n"
     ]
    }
   ],
   "source": [
    "if __name__ == '__main__':\n",
    "    app.run()"
   ]
  }
 ],
 "metadata": {
  "kernelspec": {
   "display_name": "Python 3",
   "language": "python",
   "name": "python3"
  },
  "language_info": {
   "codemirror_mode": {
    "name": "ipython",
    "version": 3
   },
   "file_extension": ".py",
   "mimetype": "text/x-python",
   "name": "python",
   "nbconvert_exporter": "python",
   "pygments_lexer": "ipython3",
   "version": "3.10.9"
  }
 },
 "nbformat": 4,
 "nbformat_minor": 2
}
